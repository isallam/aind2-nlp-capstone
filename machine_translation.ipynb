{
 "cells": [
  {
   "cell_type": "markdown",
   "metadata": {
    "collapsed": true
   },
   "source": [
    "# Artificial Intelligence Nanodegree\n",
    "## Machine Translation Project\n",
    "In this notebook, sections that end with **'(IMPLEMENTATION)'** in the header indicate that the following blocks of code will require additional functionality which you must provide. Please be sure to read the instructions carefully!\n",
    "\n",
    "## Introduction\n",
    "In this notebook, you will build a deep neural network that functions as part of an end-to-end machine translation pipeline. Your completed pipeline will accept English text as input and return the French translation.\n",
    "\n",
    "- **Preprocess** - You'll convert text to sequence of integers.\n",
    "- **Models** Create models which accepts a sequence of integers as input and returns a probability distribution over possible translations. After learning about the basic types of neural networks that are often used for machine translation, you will engage in your own investigations, to design your own model!\n",
    "- **Prediction** Run the model on English text.\n",
    "\n",
    "## Dataset\n",
    "We begin by investigating the dataset that will be used to train and evaluate your pipeline.  The most common datasets used for machine translation are from [WMT](http://www.statmt.org/).  However, that will take a long time to train a neural network on.  We'll be using a dataset we created for this project that contains a small vocabulary.  You'll be able to train your model in a reasonable time with this dataset.\n",
    "### Load Data\n",
    "The data is located in `data/small_vocab_en` and `data/small_vocab_fr`. The `small_vocab_en` file contains English sentences with their French translations in the `small_vocab_fr` file. Load the English and French data from these files from running the cell below."
   ]
  },
  {
   "cell_type": "code",
   "execution_count": 1,
   "metadata": {},
   "outputs": [
    {
     "name": "stdout",
     "output_type": "stream",
     "text": [
      "Dataset Loaded\n"
     ]
    }
   ],
   "source": [
    "import helper\n",
    "\n",
    "\n",
    "# Load English data\n",
    "english_sentences = helper.load_data('data/small_vocab_en')\n",
    "# Load French data\n",
    "french_sentences = helper.load_data('data/small_vocab_fr')\n",
    "\n",
    "print('Dataset Loaded')"
   ]
  },
  {
   "cell_type": "markdown",
   "metadata": {},
   "source": [
    "### Files\n",
    "Each line in `small_vocab_en` contains an English sentence with the respective translation in each line of `small_vocab_fr`.  View the first two lines from each file."
   ]
  },
  {
   "cell_type": "code",
   "execution_count": 2,
   "metadata": {},
   "outputs": [
    {
     "name": "stdout",
     "output_type": "stream",
     "text": [
      "small_vocab_en Line 1:  new jersey is sometimes quiet during autumn , and it is snowy in april .\n",
      "small_vocab_fr Line 1:  new jersey est parfois calme pendant l' automne , et il est neigeux en avril .\n",
      "small_vocab_en Line 2:  the united states is usually chilly during july , and it is usually freezing in november .\n",
      "small_vocab_fr Line 2:  les états-unis est généralement froid en juillet , et il gèle habituellement en novembre .\n"
     ]
    }
   ],
   "source": [
    "for sample_i in range(2):\n",
    "    print('small_vocab_en Line {}:  {}'.format(sample_i + 1, english_sentences[sample_i]))\n",
    "    print('small_vocab_fr Line {}:  {}'.format(sample_i + 1, french_sentences[sample_i]))"
   ]
  },
  {
   "cell_type": "markdown",
   "metadata": {},
   "source": [
    "From looking at the sentences, you can see they have been preprocessed already.  The puncuations have been delimited using spaces. All the text have been converted to lowercase.  This should save you some time, but the text requires more preprocessing.\n",
    "### Vocabulary\n",
    "The complexity of the problem is determined by the complexity of the vocabulary.  A more complex vocabulary is a more complex problem.  Let's look at the complexity of the dataset we'll be working with."
   ]
  },
  {
   "cell_type": "code",
   "execution_count": 3,
   "metadata": {},
   "outputs": [
    {
     "name": "stdout",
     "output_type": "stream",
     "text": [
      "1823250 English words.\n",
      "227 unique English words.\n",
      "10 Most common words in the English dataset:\n",
      "\"is\" \",\" \".\" \"in\" \"it\" \"during\" \"the\" \"but\" \"and\" \"sometimes\"\n",
      "\n",
      "1961295 French words.\n",
      "355 unique French words.\n",
      "10 Most common words in the French dataset:\n",
      "\"est\" \".\" \",\" \"en\" \"il\" \"les\" \"mais\" \"et\" \"la\" \"parfois\"\n"
     ]
    }
   ],
   "source": [
    "import collections\n",
    "\n",
    "\n",
    "english_words_counter = collections.Counter([word for sentence in english_sentences for word in sentence.split()])\n",
    "french_words_counter = collections.Counter([word for sentence in french_sentences for word in sentence.split()])\n",
    "\n",
    "print('{} English words.'.format(len([word for sentence in english_sentences for word in sentence.split()])))\n",
    "print('{} unique English words.'.format(len(english_words_counter)))\n",
    "print('10 Most common words in the English dataset:')\n",
    "print('\"' + '\" \"'.join(list(zip(*english_words_counter.most_common(10)))[0]) + '\"')\n",
    "print()\n",
    "print('{} French words.'.format(len([word for sentence in french_sentences for word in sentence.split()])))\n",
    "print('{} unique French words.'.format(len(french_words_counter)))\n",
    "print('10 Most common words in the French dataset:')\n",
    "print('\"' + '\" \"'.join(list(zip(*french_words_counter.most_common(10)))[0]) + '\"')"
   ]
  },
  {
   "cell_type": "markdown",
   "metadata": {},
   "source": [
    "For comparison, _Alice's Adventures in Wonderland_ contains 2,766 unique words of a total of 15,500 words.\n",
    "## Preprocess\n",
    "For this project, you won't use text data as input to your model. Instead, you'll convert the text into sequences of integers using the following preprocess methods:\n",
    "1. Tokenize the words into ids\n",
    "2. Add padding to make all the sequences the same length.\n",
    "\n",
    "Time to start preprocessing the data...\n",
    "### Tokenize (IMPLEMENTATION)\n",
    "For a neural network to predict on text data, it first has to be turned into data it can understand. Text data like \"dog\" is a sequence of ASCII character encodings.  Since a neural network is a series of multiplication and addition operations, the input data needs to be number(s).\n",
    "\n",
    "We can turn each character into a number or each word into a number.  These are called character and word ids, respectively.  Character ids are used for character level models that generate text predictions for each character.  A word level model uses word ids that generate text predictions for each word.  Word level models tend to learn better, since they are lower in complexity, so we'll use those.\n",
    "\n",
    "Turn each sentence into a sequence of words ids using Keras's [`Tokenizer`](https://keras.io/preprocessing/text/#tokenizer) function. Use this function to tokenize `english_sentences` and `french_sentences` in the cell below.\n",
    "\n",
    "Running the cell will run `tokenize` on sample data and show output for debugging."
   ]
  },
  {
   "cell_type": "code",
   "execution_count": 4,
   "metadata": {},
   "outputs": [
    {
     "name": "stderr",
     "output_type": "stream",
     "text": [
      "Using TensorFlow backend.\n"
     ]
    },
    {
     "name": "stdout",
     "output_type": "stream",
     "text": [
      "{'the': 1, 'quick': 2, 'a': 3, 'brown': 4, 'fox': 5, 'jumps': 6, 'over': 7, 'lazy': 8, 'dog': 9, 'by': 10, 'jove': 11, 'my': 12, 'study': 13, 'of': 14, 'lexicography': 15, 'won': 16, 'prize': 17, 'this': 18, 'is': 19, 'short': 20, 'sentence': 21}\n",
      "\n",
      "Sequence 1 in x\n",
      "  Input:  The quick brown fox jumps over the lazy dog .\n",
      "  Output: [1, 2, 4, 5, 6, 7, 1, 8, 9]\n",
      "Sequence 2 in x\n",
      "  Input:  By Jove , my quick study of lexicography won a prize .\n",
      "  Output: [10, 11, 12, 2, 13, 14, 15, 16, 3, 17]\n",
      "Sequence 3 in x\n",
      "  Input:  This is a short sentence .\n",
      "  Output: [18, 19, 3, 20, 21]\n"
     ]
    }
   ],
   "source": [
    "import project_tests as tests\n",
    "from keras.preprocessing.text import Tokenizer\n",
    "\n",
    "\n",
    "def tokenize(x):\n",
    "    \"\"\"\n",
    "    Tokenize x\n",
    "    :param x: List of sentences/strings to be tokenized\n",
    "    :return: Tuple of (tokenized x data, tokenizer used to tokenize x)\n",
    "    \"\"\"\n",
    "    # TODO: Implement\n",
    "    tokenizer = Tokenizer()\n",
    "    tokenizer.fit_on_texts(x)\n",
    "    x_tokenized = tokenizer.texts_to_sequences(x)\n",
    "    return x_tokenized, tokenizer\n",
    "tests.test_tokenize(tokenize)\n",
    "\n",
    "# Tokenize Example output\n",
    "text_sentences = [\n",
    "    'The quick brown fox jumps over the lazy dog .',\n",
    "    'By Jove , my quick study of lexicography won a prize .',\n",
    "    'This is a short sentence .']\n",
    "text_tokenized, text_tokenizer = tokenize(text_sentences)\n",
    "print(text_tokenizer.word_index)\n",
    "print()\n",
    "for sample_i, (sent, token_sent) in enumerate(zip(text_sentences, text_tokenized)):\n",
    "    print('Sequence {} in x'.format(sample_i + 1))\n",
    "    print('  Input:  {}'.format(sent))\n",
    "    print('  Output: {}'.format(token_sent))"
   ]
  },
  {
   "cell_type": "markdown",
   "metadata": {},
   "source": [
    "### Padding (IMPLEMENTATION)\n",
    "When batching the sequence of word ids together, each sequence needs to be the same length.  Since sentences are dynamic in length, we can add padding to the end of the sequences to make them the same length.\n",
    "\n",
    "Make sure all the English sequences have the same length and all the French sequences have the same length by adding padding to the **end** of each sequence using Keras's [`pad_sequences`](https://keras.io/preprocessing/sequence/#pad_sequences) function."
   ]
  },
  {
   "cell_type": "code",
   "execution_count": 5,
   "metadata": {},
   "outputs": [
    {
     "name": "stdout",
     "output_type": "stream",
     "text": [
      "Sequence 1 in x\n",
      "  Input:  [1 2 4 5 6 7 1 8 9]\n",
      "  Output: [1 2 4 5 6 7 1 8 9 0]\n",
      "Sequence 2 in x\n",
      "  Input:  [10 11 12  2 13 14 15 16  3 17]\n",
      "  Output: [10 11 12  2 13 14 15 16  3 17]\n",
      "Sequence 3 in x\n",
      "  Input:  [18 19  3 20 21]\n",
      "  Output: [18 19  3 20 21  0  0  0  0  0]\n"
     ]
    }
   ],
   "source": [
    "import numpy as np\n",
    "from keras.preprocessing.sequence import pad_sequences\n",
    "\n",
    "\n",
    "def pad(x, length=None):\n",
    "    \"\"\"\n",
    "    Pad x\n",
    "    :param x: List of sequences.\n",
    "    :param length: Length to pad the sequence to.  If None, use length of longest sequence in x.\n",
    "    :return: Padded numpy array of sequences\n",
    "    \"\"\"\n",
    "    # TODO: Implement\n",
    "    x_padded = pad_sequences(x, maxlen=length, padding='post')\n",
    "    return x_padded\n",
    "tests.test_pad(pad)\n",
    "\n",
    "# Pad Tokenized output\n",
    "test_pad = pad(text_tokenized)\n",
    "for sample_i, (token_sent, pad_sent) in enumerate(zip(text_tokenized, test_pad)):\n",
    "    print('Sequence {} in x'.format(sample_i + 1))\n",
    "    print('  Input:  {}'.format(np.array(token_sent)))\n",
    "    print('  Output: {}'.format(pad_sent))"
   ]
  },
  {
   "cell_type": "markdown",
   "metadata": {},
   "source": [
    "### Preprocess Pipeline\n",
    "Your focus for this project is to build neural network architecture, so we won't ask you to create a preprocess pipeline.  Instead, we've provided you with the implementation of the `preprocess` function."
   ]
  },
  {
   "cell_type": "code",
   "execution_count": 6,
   "metadata": {},
   "outputs": [
    {
     "name": "stdout",
     "output_type": "stream",
     "text": [
      "Data Preprocessed\n"
     ]
    }
   ],
   "source": [
    "def preprocess(x, y):\n",
    "    \"\"\"\n",
    "    Preprocess x and y\n",
    "    :param x: Feature List of sentences\n",
    "    :param y: Label List of sentences\n",
    "    :return: Tuple of (Preprocessed x, Preprocessed y, x tokenizer, y tokenizer)\n",
    "    \"\"\"\n",
    "    preprocess_x, x_tk = tokenize(x)\n",
    "    preprocess_y, y_tk = tokenize(y)\n",
    "\n",
    "    preprocess_x = pad(preprocess_x)\n",
    "    preprocess_y = pad(preprocess_y)\n",
    "\n",
    "    # Keras's sparse_categorical_crossentropy function requires the labels to be in 3 dimensions\n",
    "    preprocess_y = preprocess_y.reshape(*preprocess_y.shape, 1)\n",
    "\n",
    "    return preprocess_x, preprocess_y, x_tk, y_tk\n",
    "\n",
    "preproc_english_sentences, preproc_french_sentences, english_tokenizer, french_tokenizer =\\\n",
    "    preprocess(english_sentences, french_sentences)\n",
    "\n",
    "print('Data Preprocessed')"
   ]
  },
  {
   "cell_type": "markdown",
   "metadata": {},
   "source": [
    "## Models\n",
    "In this section, you will experiment with various neural network architectures.\n",
    "You will begin by training four relatively simple architectures.\n",
    "- Model 1 is a simple RNN\n",
    "- Model 2 is a RNN with Embedding\n",
    "- Model 3 is a Bidirectional RNN\n",
    "- Model 4 is an optional Encoder-Decoder RNN\n",
    "\n",
    "After experimenting with the four simple architectures, you will construct a deeper architecture that is designed to outperform all four models.\n",
    "### Ids Back to Text\n",
    "The neural network will be translating the input to words ids, which isn't the final form we want.  We want the French translation.  The function `logits_to_text` will bridge the gab between the logits from the neural network to the French translation.  You'll be using this function to better understand the output of the neural network."
   ]
  },
  {
   "cell_type": "code",
   "execution_count": 7,
   "metadata": {},
   "outputs": [
    {
     "name": "stdout",
     "output_type": "stream",
     "text": [
      "`logits_to_text` function loaded.\n"
     ]
    }
   ],
   "source": [
    "def logits_to_text(logits, tokenizer):\n",
    "    \"\"\"\n",
    "    Turn logits from a neural network into text using the tokenizer\n",
    "    :param logits: Logits from a neural network\n",
    "    :param tokenizer: Keras Tokenizer fit on the labels\n",
    "    :return: String that represents the text of the logits\n",
    "    \"\"\"\n",
    "    index_to_words = {id: word for word, id in tokenizer.word_index.items()}\n",
    "    index_to_words[0] = '<PAD>'\n",
    "\n",
    "    return ' '.join([index_to_words[prediction] for prediction in np.argmax(logits, 1)])\n",
    "\n",
    "print('`logits_to_text` function loaded.')"
   ]
  },
  {
   "cell_type": "markdown",
   "metadata": {},
   "source": [
    "### Model 1: RNN (IMPLEMENTATION)\n",
    "![RNN](images/rnn.png)\n",
    "A basic RNN model is a good baseline for sequence data.  In this model, you'll build a RNN that translates English to French."
   ]
  },
  {
   "cell_type": "code",
   "execution_count": 8,
   "metadata": {},
   "outputs": [
    {
     "name": "stdout",
     "output_type": "stream",
     "text": [
      "(137861, 21, 1)\n",
      "21\n",
      "21\n"
     ]
    }
   ],
   "source": [
    "# testing\n",
    "print (preproc_french_sentences.shape)\n",
    "print (preproc_french_sentences.shape[1])\n",
    "print (preproc_french_sentences.shape[-2])\n"
   ]
  },
  {
   "cell_type": "code",
   "execution_count": 9,
   "metadata": {},
   "outputs": [
    {
     "name": "stdout",
     "output_type": "stream",
     "text": [
      "Train on 110288 samples, validate on 27573 samples\n",
      "Epoch 1/10\n",
      "110288/110288 [==============================] - 38s - loss: 4.1515 - acc: 0.3905 - val_loss: 2.8748 - val_acc: 0.4093\n",
      "Epoch 2/10\n",
      "110288/110288 [==============================] - 6s - loss: 2.7050 - acc: 0.4242 - val_loss: 2.5929 - val_acc: 0.4475\n",
      "Epoch 3/10\n",
      "110288/110288 [==============================] - 6s - loss: 2.5353 - acc: 0.4595 - val_loss: 2.4754 - val_acc: 0.4708\n",
      "Epoch 4/10\n",
      "110288/110288 [==============================] - 6s - loss: 2.4239 - acc: 0.4719 - val_loss: 2.3665 - val_acc: 0.4741\n",
      "Epoch 5/10\n",
      "110288/110288 [==============================] - 6s - loss: 2.3143 - acc: 0.4811 - val_loss: 2.2535 - val_acc: 0.4949\n",
      "Epoch 6/10\n",
      "110288/110288 [==============================] - 6s - loss: 2.1936 - acc: 0.5061 - val_loss: 2.1301 - val_acc: 0.5209\n",
      "Epoch 7/10\n",
      "110288/110288 [==============================] - 6s - loss: 2.0781 - acc: 0.5288 - val_loss: 2.0242 - val_acc: 0.5338\n",
      "Epoch 8/10\n",
      "110288/110288 [==============================] - 6s - loss: 1.9826 - acc: 0.5402 - val_loss: 1.9400 - val_acc: 0.5463\n",
      "Epoch 9/10\n",
      "110288/110288 [==============================] - 6s - loss: 1.9060 - acc: 0.5475 - val_loss: 1.8724 - val_acc: 0.5508\n",
      "Epoch 10/10\n",
      "110288/110288 [==============================] - 6s - loss: 1.8451 - acc: 0.5537 - val_loss: 1.8168 - val_acc: 0.5635\n",
      "paris jersey est est est en en et il est en en en <PAD> <PAD> <PAD> <PAD> <PAD> <PAD> <PAD> <PAD>\n"
     ]
    }
   ],
   "source": [
    "from keras.layers import GRU, Input, Dense, TimeDistributed\n",
    "from keras.models import Model\n",
    "from keras.layers import Activation\n",
    "from keras.optimizers import Adam\n",
    "from keras.losses import sparse_categorical_crossentropy\n",
    "\n",
    "learning_rate = 0.001\n",
    "\n",
    "def simple_model(input_shape, output_sequence_length, english_vocab_size, french_vocab_size):\n",
    "    \"\"\"\n",
    "    Build and train a basic RNN on x and y\n",
    "    :param input_shape: Tuple of input shape\n",
    "    :param output_sequence_length: Length of output sequence\n",
    "    :param english_vocab_size: Number of unique English words in the dataset\n",
    "    :param french_vocab_size: Number of unique French words in the dataset\n",
    "    :return: Keras model built, but not trained\n",
    "    \"\"\"\n",
    "    # TODO: Build the layers\n",
    "    _input = Input(shape=input_shape[1:])\n",
    "    gru = GRU(32, return_sequences=True)(_input)\n",
    "    _output = TimeDistributed(Dense(french_vocab_size, activation='softmax'))(gru)\n",
    "    model = Model(inputs=_input, outputs=_output)\n",
    "    model.compile(loss=sparse_categorical_crossentropy,\n",
    "                  optimizer=Adam(learning_rate),\n",
    "                  metrics=['accuracy'])\n",
    "    return model\n",
    "tests.test_simple_model(simple_model)\n",
    "\n",
    "\n",
    "\n",
    "# Reshaping the input to work with a basic RNN\n",
    "tmp_x = pad(preproc_english_sentences, preproc_french_sentences.shape[1])\n",
    "tmp_x = tmp_x.reshape((-1, preproc_french_sentences.shape[-2], 1))\n",
    "\n",
    "# Train the neural network\n",
    "simple_rnn_model = simple_model(\n",
    "    tmp_x.shape,\n",
    "    preproc_french_sentences.shape[1],\n",
    "    len(english_tokenizer.word_index)+1,\n",
    "    len(french_tokenizer.word_index)+1)\n",
    "simple_rnn_model.fit(tmp_x, preproc_french_sentences, batch_size=1024, epochs=10, validation_split=0.2)\n",
    "\n",
    "# Print prediction(s)\n",
    "print(logits_to_text(simple_rnn_model.predict(tmp_x[:1])[0], french_tokenizer))"
   ]
  },
  {
   "cell_type": "markdown",
   "metadata": {},
   "source": [
    "### Model 2: Embedding (IMPLEMENTATION)\n",
    "![RNN](images/embedding.png)\n",
    "You've turned the words into ids, but there's a better representation of a word.  This is called word embeddings.  An embedding is a vector representation of the word that is close to similar words in n-dimensional space, where the n represents the size of the embedding vectors.\n",
    "\n",
    "In this model, you'll create a RNN model using embedding."
   ]
  },
  {
   "cell_type": "code",
   "execution_count": 10,
   "metadata": {},
   "outputs": [
    {
     "name": "stdout",
     "output_type": "stream",
     "text": [
      "Train on 110288 samples, validate on 27573 samples\n",
      "Epoch 1/10\n",
      "110288/110288 [==============================] - 8s - loss: 3.7999 - acc: 0.4255 - val_loss: 2.7243 - val_acc: 0.4257\n",
      "Epoch 2/10\n",
      "110288/110288 [==============================] - 7s - loss: 2.1647 - acc: 0.5793 - val_loss: 1.7092 - val_acc: 0.6535\n",
      "Epoch 3/10\n",
      "110288/110288 [==============================] - 7s - loss: 1.4927 - acc: 0.6689 - val_loss: 1.3161 - val_acc: 0.6830\n",
      "Epoch 4/10\n",
      "110288/110288 [==============================] - 7s - loss: 1.2011 - acc: 0.6959 - val_loss: 1.1007 - val_acc: 0.7127\n",
      "Epoch 5/10\n",
      "110288/110288 [==============================] - 7s - loss: 1.0310 - acc: 0.7220 - val_loss: 0.9633 - val_acc: 0.7343\n",
      "Epoch 6/10\n",
      "110288/110288 [==============================] - 7s - loss: 0.9053 - acc: 0.7510 - val_loss: 0.8492 - val_acc: 0.7673\n",
      "Epoch 7/10\n",
      "110288/110288 [==============================] - 7s - loss: 0.8125 - acc: 0.7769 - val_loss: 0.7763 - val_acc: 0.7870\n",
      "Epoch 8/10\n",
      "110288/110288 [==============================] - 7s - loss: 0.7494 - acc: 0.7944 - val_loss: 0.7203 - val_acc: 0.8017\n",
      "Epoch 9/10\n",
      "110288/110288 [==============================] - 7s - loss: 0.6991 - acc: 0.8080 - val_loss: 0.6753 - val_acc: 0.8157\n",
      "Epoch 10/10\n",
      "110288/110288 [==============================] - 7s - loss: 0.6585 - acc: 0.8182 - val_loss: 0.6381 - val_acc: 0.8232\n",
      "new jersey est parfois calme en l' automne et il est neigeux en avril <PAD> <PAD> <PAD> <PAD> <PAD> <PAD> <PAD>\n"
     ]
    }
   ],
   "source": [
    "from keras.layers.embeddings import Embedding\n",
    "\n",
    "\n",
    "def embed_model(input_shape, output_sequence_length, english_vocab_size, french_vocab_size):\n",
    "    \"\"\"\n",
    "    Build and train a RNN model using word embedding on x and y\n",
    "    :param input_shape: Tuple of input shape\n",
    "    :param output_sequence_length: Length of output sequence\n",
    "    :param english_vocab_size: Number of unique English words in the dataset\n",
    "    :param french_vocab_size: Number of unique French words in the dataset\n",
    "    :return: Keras model built, but not trained\n",
    "    \"\"\"\n",
    "    # TODO: Implement\n",
    "    _input = Input(shape=input_shape[1:])\n",
    "#     print('_input:', _input.shape)\n",
    "    _embedding = Embedding(input_dim=english_vocab_size, input_length=input_shape[1], output_dim=512)(_input)\n",
    "#     print('_embedding:', _embedding.shape)\n",
    "    _gru = GRU(32, return_sequences=True)(_embedding)\n",
    "    _output = Dense(french_vocab_size, activation='softmax')(_gru)\n",
    "    model = Model(inputs=_input, outputs=_output)\n",
    "    model.compile(loss=sparse_categorical_crossentropy,\n",
    "                  optimizer=Adam(learning_rate),\n",
    "                  metrics=['accuracy'])\n",
    "    return model\n",
    "\n",
    "tests.test_embed_model(embed_model)\n",
    "\n",
    "\n",
    "# TODO: Reshape the input\n",
    "tmp_x = pad(preproc_english_sentences, preproc_french_sentences.shape[1])\n",
    "tmp_x = tmp_x.reshape((-1, preproc_french_sentences.shape[-2]))\n",
    "\n",
    "# TODO: Train the neural network\n",
    "embedding_rnn_model = embed_model(\n",
    "    tmp_x.shape,\n",
    "    preproc_french_sentences.shape[1],\n",
    "    len(english_tokenizer.word_index)+1,\n",
    "    len(french_tokenizer.word_index)+1)\n",
    "embedding_rnn_model.fit(tmp_x, preproc_french_sentences, batch_size=1024, epochs=10, validation_split=0.2)\n",
    "\n",
    "# TODO: Print prediction(s)\n",
    "print(logits_to_text(embedding_rnn_model.predict(tmp_x[:1])[0], french_tokenizer))\n"
   ]
  },
  {
   "cell_type": "markdown",
   "metadata": {},
   "source": [
    "### Model 3: Bidirectional RNNs (IMPLEMENTATION)\n",
    "![RNN](images/bidirectional.png)\n",
    "One restriction of a RNN is that it can't see the future input, only the past.  This is where bidirectional recurrent neural networks come in.  They are able to see the future data."
   ]
  },
  {
   "cell_type": "code",
   "execution_count": 13,
   "metadata": {},
   "outputs": [
    {
     "name": "stdout",
     "output_type": "stream",
     "text": [
      "Train on 110288 samples, validate on 27573 samples\n",
      "Epoch 1/40\n",
      "110288/110288 [==============================] - 13s - loss: 3.5611 - acc: 0.4277 - val_loss: 2.5367 - val_acc: 0.4791\n",
      "Epoch 2/40\n",
      "110288/110288 [==============================] - 13s - loss: 2.4028 - acc: 0.4911 - val_loss: 2.2624 - val_acc: 0.5023\n",
      "Epoch 3/40\n",
      "110288/110288 [==============================] - 13s - loss: 2.1308 - acc: 0.5167 - val_loss: 1.9951 - val_acc: 0.5426\n",
      "Epoch 4/40\n",
      "110288/110288 [==============================] - 13s - loss: 1.8738 - acc: 0.5572 - val_loss: 1.7608 - val_acc: 0.5736\n",
      "Epoch 5/40\n",
      "110288/110288 [==============================] - 13s - loss: 1.6838 - acc: 0.5800 - val_loss: 1.6181 - val_acc: 0.5896\n",
      "Epoch 6/40\n",
      "110288/110288 [==============================] - 13s - loss: 1.5725 - acc: 0.5978 - val_loss: 1.5324 - val_acc: 0.6054\n",
      "Epoch 7/40\n",
      "110288/110288 [==============================] - 13s - loss: 1.4981 - acc: 0.6092 - val_loss: 1.4651 - val_acc: 0.6158\n",
      "Epoch 8/40\n",
      "110288/110288 [==============================] - 13s - loss: 1.4332 - acc: 0.6206 - val_loss: 1.4013 - val_acc: 0.6280\n",
      "Epoch 9/40\n",
      "110288/110288 [==============================] - 13s - loss: 1.3707 - acc: 0.6334 - val_loss: 1.3402 - val_acc: 0.6369\n",
      "Epoch 10/40\n",
      "110288/110288 [==============================] - 13s - loss: 1.3141 - acc: 0.6407 - val_loss: 1.2874 - val_acc: 0.6429\n",
      "Epoch 11/40\n",
      "110288/110288 [==============================] - 13s - loss: 1.2651 - acc: 0.6471 - val_loss: 1.2424 - val_acc: 0.6504\n",
      "Epoch 12/40\n",
      "110288/110288 [==============================] - 13s - loss: 1.2229 - acc: 0.6546 - val_loss: 1.2037 - val_acc: 0.6576\n",
      "Epoch 13/40\n",
      "110288/110288 [==============================] - 13s - loss: 1.1896 - acc: 0.6599 - val_loss: 1.1738 - val_acc: 0.6626\n",
      "Epoch 14/40\n",
      "110288/110288 [==============================] - 13s - loss: 1.1630 - acc: 0.6643 - val_loss: 1.1498 - val_acc: 0.6651\n",
      "Epoch 15/40\n",
      "110288/110288 [==============================] - 13s - loss: 1.1399 - acc: 0.6688 - val_loss: 1.1288 - val_acc: 0.6706\n",
      "Epoch 16/40\n",
      "110288/110288 [==============================] - 13s - loss: 1.1201 - acc: 0.6722 - val_loss: 1.1113 - val_acc: 0.6719\n",
      "Epoch 17/40\n",
      "110288/110288 [==============================] - 13s - loss: 1.1014 - acc: 0.6754 - val_loss: 1.0915 - val_acc: 0.6763\n",
      "Epoch 18/40\n",
      "110288/110288 [==============================] - 13s - loss: 1.0848 - acc: 0.6786 - val_loss: 1.0778 - val_acc: 0.6786\n",
      "Epoch 19/40\n",
      "110288/110288 [==============================] - 13s - loss: 1.0695 - acc: 0.6812 - val_loss: 1.0605 - val_acc: 0.6841\n",
      "Epoch 20/40\n",
      "110288/110288 [==============================] - 13s - loss: 1.0557 - acc: 0.6834 - val_loss: 1.0477 - val_acc: 0.6838\n",
      "Epoch 21/40\n",
      "110288/110288 [==============================] - 13s - loss: 1.0426 - acc: 0.6852 - val_loss: 1.0363 - val_acc: 0.6863\n",
      "Epoch 22/40\n",
      "110288/110288 [==============================] - 13s - loss: 1.0304 - acc: 0.6876 - val_loss: 1.0254 - val_acc: 0.6852\n",
      "Epoch 23/40\n",
      "110288/110288 [==============================] - 13s - loss: 1.0197 - acc: 0.6892 - val_loss: 1.0149 - val_acc: 0.6885\n",
      "Epoch 24/40\n",
      "110288/110288 [==============================] - 13s - loss: 1.0090 - acc: 0.6916 - val_loss: 1.0025 - val_acc: 0.6929\n",
      "Epoch 25/40\n",
      "110288/110288 [==============================] - 13s - loss: 0.9992 - acc: 0.6936 - val_loss: 0.9930 - val_acc: 0.6942\n",
      "Epoch 26/40\n",
      "110288/110288 [==============================] - 13s - loss: 0.9896 - acc: 0.6955 - val_loss: 0.9840 - val_acc: 0.6953\n",
      "Epoch 27/40\n",
      "110288/110288 [==============================] - 13s - loss: 0.9813 - acc: 0.6967 - val_loss: 0.9788 - val_acc: 0.6971\n",
      "Epoch 28/40\n",
      "110288/110288 [==============================] - 13s - loss: 0.9733 - acc: 0.6981 - val_loss: 0.9691 - val_acc: 0.6978\n",
      "Epoch 29/40\n",
      "110288/110288 [==============================] - 13s - loss: 0.9648 - acc: 0.6997 - val_loss: 0.9605 - val_acc: 0.7012\n",
      "Epoch 30/40\n",
      "110288/110288 [==============================] - 13s - loss: 0.9571 - acc: 0.7010 - val_loss: 0.9521 - val_acc: 0.7019\n",
      "Epoch 31/40\n",
      "110288/110288 [==============================] - 13s - loss: 0.9494 - acc: 0.7027 - val_loss: 0.9459 - val_acc: 0.7038\n",
      "Epoch 32/40\n",
      "110288/110288 [==============================] - 13s - loss: 0.9419 - acc: 0.7042 - val_loss: 0.9368 - val_acc: 0.7040\n",
      "Epoch 33/40\n",
      "110288/110288 [==============================] - 13s - loss: 0.9347 - acc: 0.7056 - val_loss: 0.9332 - val_acc: 0.7046\n",
      "Epoch 34/40\n",
      "110288/110288 [==============================] - 13s - loss: 0.9273 - acc: 0.7072 - val_loss: 0.9248 - val_acc: 0.7082\n",
      "Epoch 35/40\n",
      "110288/110288 [==============================] - 13s - loss: 0.9207 - acc: 0.7090 - val_loss: 0.9205 - val_acc: 0.7084\n",
      "Epoch 36/40\n",
      "110288/110288 [==============================] - 13s - loss: 0.9139 - acc: 0.7104 - val_loss: 0.9107 - val_acc: 0.7115\n",
      "Epoch 37/40\n",
      "110288/110288 [==============================] - 13s - loss: 0.9069 - acc: 0.7122 - val_loss: 0.9023 - val_acc: 0.7124\n",
      "Epoch 38/40\n",
      "110288/110288 [==============================] - 13s - loss: 0.9014 - acc: 0.7135 - val_loss: 0.8963 - val_acc: 0.7149\n",
      "Epoch 39/40\n",
      "110288/110288 [==============================] - 13s - loss: 0.8932 - acc: 0.7161 - val_loss: 0.8898 - val_acc: 0.7170\n",
      "Epoch 40/40\n",
      "110288/110288 [==============================] - 13s - loss: 0.8860 - acc: 0.7184 - val_loss: 0.8826 - val_acc: 0.7188\n",
      "new jersey est parfois calme en mois de mai et il en en <PAD> <PAD> <PAD> <PAD> <PAD> <PAD> <PAD> <PAD>\n"
     ]
    }
   ],
   "source": [
    "from keras.layers import Bidirectional\n",
    "\n",
    "def bd_model(input_shape, output_sequence_length, english_vocab_size, french_vocab_size):\n",
    "    \"\"\"\n",
    "    Build and train a bidirectional RNN model on x and y\n",
    "    :param input_shape: Tuple of input shape\n",
    "    :param output_sequence_length: Length of output sequence\n",
    "    :param english_vocab_size: Number of unique English words in the dataset\n",
    "    :param french_vocab_size: Number of unique French words in the dataset\n",
    "    :return: Keras model built, but not trained\n",
    "    \"\"\"\n",
    "    # TODO: Implement\n",
    "    _input = Input(shape=input_shape[1:])\n",
    "#     print('_input:', _input.shape)\n",
    "    _gru = GRU(32, return_sequences=True)(_input)\n",
    "    _bidi_gru = Bidirectional(GRU(32, return_sequences=True))(_gru)\n",
    "    _output = Dense(french_vocab_size, activation='softmax')(_bidi_gru)\n",
    "    model = Model(inputs=_input, outputs=_output)\n",
    "    \n",
    "    model.compile(loss=sparse_categorical_crossentropy,\n",
    "                  optimizer=Adam(learning_rate),\n",
    "                  metrics=['accuracy'])\n",
    "\n",
    "    return model\n",
    "\n",
    "tests.test_bd_model(bd_model)\n",
    "\n",
    "# Reshape the input\n",
    "tmp_x = pad(preproc_english_sentences, preproc_french_sentences.shape[1])\n",
    "tmp_x = tmp_x.reshape((-1, preproc_french_sentences.shape[-2], 1))\n",
    "\n",
    "\n",
    "# Train the neural network\n",
    "bd_rnn_model = bd_model(\n",
    "    tmp_x.shape,\n",
    "    preproc_french_sentences.shape[1],\n",
    "    len(english_tokenizer.word_index)+1,\n",
    "    len(french_tokenizer.word_index)+1)\n",
    "\n",
    "bd_rnn_model.fit(tmp_x, preproc_french_sentences, batch_size=1024, epochs=10, validation_split=0.2)\n",
    "\n",
    "# Print prediction(s)\n",
    "print(logits_to_text(bd_rnn_model.predict(tmp_x[:1])[0], french_tokenizer))\n",
    "\n"
   ]
  },
  {
   "cell_type": "markdown",
   "metadata": {},
   "source": [
    "### Model 4: Encoder-Decoder (OPTIONAL)\n",
    "Time to look at encoder-decoder models.  This model is made up of an encoder and decoder. The encoder creates a matrix representation of the sentence.  The decoder takes this matrix as input and predicts the translation as output.\n",
    "\n",
    "Create an encoder-decoder model in the cell below."
   ]
  },
  {
   "cell_type": "code",
   "execution_count": 15,
   "metadata": {},
   "outputs": [
    {
     "name": "stdout",
     "output_type": "stream",
     "text": [
      "_________________________________________________________________\n",
      "Layer (type)                 Output Shape              Param #   \n",
      "=================================================================\n",
      "input_13 (InputLayer)        (None, 15, 1)             0         \n",
      "_________________________________________________________________\n",
      "gru_21 (GRU)                 (None, 32)                3264      \n",
      "_________________________________________________________________\n",
      "repeat_vector_3 (RepeatVecto (None, 21, 32)            0         \n",
      "_________________________________________________________________\n",
      "gru_22 (GRU)                 (None, 21, 32)            6240      \n",
      "_________________________________________________________________\n",
      "dense_13 (Dense)             (None, 21, 344)           11352     \n",
      "=================================================================\n",
      "Total params: 20,856\n",
      "Trainable params: 20,856\n",
      "Non-trainable params: 0\n",
      "_________________________________________________________________\n",
      "_________________________________________________________________\n",
      "Layer (type)                 Output Shape              Param #   \n",
      "=================================================================\n",
      "input_14 (InputLayer)        (None, 21, 1)             0         \n",
      "_________________________________________________________________\n",
      "gru_23 (GRU)                 (None, 32)                3264      \n",
      "_________________________________________________________________\n",
      "repeat_vector_4 (RepeatVecto (None, 21, 32)            0         \n",
      "_________________________________________________________________\n",
      "gru_24 (GRU)                 (None, 21, 32)            6240      \n",
      "_________________________________________________________________\n",
      "dense_14 (Dense)             (None, 21, 345)           11385     \n",
      "=================================================================\n",
      "Total params: 20,889\n",
      "Trainable params: 20,889\n",
      "Non-trainable params: 0\n",
      "_________________________________________________________________\n",
      "Train on 110288 samples, validate on 27573 samples\n",
      "Epoch 1/20\n",
      "110288/110288 [==============================] - 11s - loss: 4.1040 - acc: 0.3935 - val_loss: 3.0857 - val_acc: 0.4093\n",
      "Epoch 2/20\n",
      "110288/110288 [==============================] - 10s - loss: 2.9159 - acc: 0.4085 - val_loss: 2.7521 - val_acc: 0.4363\n",
      "Epoch 3/20\n",
      "110288/110288 [==============================] - 10s - loss: 2.6719 - acc: 0.4538 - val_loss: 2.6057 - val_acc: 0.4661\n",
      "Epoch 4/20\n",
      "110288/110288 [==============================] - 10s - loss: 2.5664 - acc: 0.4723 - val_loss: 2.5221 - val_acc: 0.4784\n",
      "Epoch 5/20\n",
      "110288/110288 [==============================] - 10s - loss: 2.4776 - acc: 0.4791 - val_loss: 2.4174 - val_acc: 0.4816\n",
      "Epoch 6/20\n",
      "110288/110288 [==============================] - 10s - loss: 2.3686 - acc: 0.4892 - val_loss: 2.3221 - val_acc: 0.4949\n",
      "Epoch 7/20\n",
      "110288/110288 [==============================] - 10s - loss: 2.2762 - acc: 0.4985 - val_loss: 2.2226 - val_acc: 0.4983\n",
      "Epoch 8/20\n",
      "110288/110288 [==============================] - 10s - loss: 2.1761 - acc: 0.5012 - val_loss: 2.1321 - val_acc: 0.5088\n",
      "Epoch 9/20\n",
      "110288/110288 [==============================] - 10s - loss: 2.0972 - acc: 0.5069 - val_loss: 2.0634 - val_acc: 0.5132\n",
      "Epoch 10/20\n",
      "110288/110288 [==============================] - 10s - loss: 2.0423 - acc: 0.5147 - val_loss: 2.0190 - val_acc: 0.5181\n",
      "Epoch 11/20\n",
      "110288/110288 [==============================] - 10s - loss: 2.0037 - acc: 0.5185 - val_loss: 1.9872 - val_acc: 0.5214\n",
      "Epoch 12/20\n",
      "110288/110288 [==============================] - 10s - loss: 1.9742 - acc: 0.5212 - val_loss: 1.9601 - val_acc: 0.5223\n",
      "Epoch 13/20\n",
      "110288/110288 [==============================] - 9s - loss: 1.9486 - acc: 0.5233 - val_loss: 1.9346 - val_acc: 0.5246\n",
      "Epoch 14/20\n",
      "110288/110288 [==============================] - 9s - loss: 1.9260 - acc: 0.5249 - val_loss: 1.9099 - val_acc: 0.5269\n",
      "Epoch 15/20\n",
      "110288/110288 [==============================] - 10s - loss: 1.8993 - acc: 0.5265 - val_loss: 1.8841 - val_acc: 0.5277\n",
      "Epoch 16/20\n",
      "110288/110288 [==============================] - 10s - loss: 1.8745 - acc: 0.5280 - val_loss: 1.8592 - val_acc: 0.5304\n",
      "Epoch 17/20\n",
      "110288/110288 [==============================] - 10s - loss: 1.8495 - acc: 0.5306 - val_loss: 1.8342 - val_acc: 0.5334\n",
      "Epoch 18/20\n",
      "110288/110288 [==============================] - 10s - loss: 1.8253 - acc: 0.5343 - val_loss: 1.8097 - val_acc: 0.5391\n",
      "Epoch 19/20\n",
      "110288/110288 [==============================] - 10s - loss: 1.7994 - acc: 0.5418 - val_loss: 1.7835 - val_acc: 0.5459\n",
      "Epoch 20/20\n",
      "110288/110288 [==============================] - 10s - loss: 1.7762 - acc: 0.5479 - val_loss: 1.7594 - val_acc: 0.5517\n",
      "la est est est en en il il il il est en en <PAD> <PAD> <PAD> <PAD> <PAD> <PAD> <PAD> <PAD>\n"
     ]
    }
   ],
   "source": [
    "from keras.layers import RepeatVector, Dropout\n",
    "\n",
    "\n",
    "def encdec_model(input_shape, output_sequence_length, english_vocab_size, french_vocab_size):\n",
    "    \"\"\"\n",
    "    Build and train an encoder-decoder model on x and y\n",
    "    :param input_shape: Tuple of input shape\n",
    "    :param output_sequence_length: Length of output sequence\n",
    "    :param english_vocab_size: Number of unique English words in the dataset\n",
    "    :param french_vocab_size: Number of unique French words in the dataset\n",
    "    :return: Keras model built, but not trained\n",
    "    \"\"\"\n",
    "    # OPTIONAL: Implement\n",
    "    _input = Input(shape=input_shape[1:])\n",
    "    _encoded = GRU(32)(_input)\n",
    "    \n",
    "    _decoded = RepeatVector(output_sequence_length)(_encoded)\n",
    "    _decoded = GRU(32, return_sequences=True)(_decoded)\n",
    "    \n",
    "    _output = Dense(french_vocab_size, activation='softmax')(_decoded)\n",
    "    \n",
    "    model = Model(inputs=_input, outputs=_output)\n",
    "    model.compile(loss=sparse_categorical_crossentropy,\n",
    "                  optimizer=Adam(learning_rate),\n",
    "                  metrics=['accuracy'])\n",
    "#     model.summary()\n",
    "    return model\n",
    "\n",
    "tests.test_encdec_model(encdec_model)\n",
    "\n",
    "\n",
    "# OPTIONAL: Train and Print prediction(s)\n",
    "\n",
    "# Reshape the input\n",
    "tmp_x = pad(preproc_english_sentences, preproc_french_sentences.shape[1])\n",
    "tmp_x = tmp_x.reshape((-1, preproc_french_sentences.shape[-2], 1))\n",
    "\n",
    "# Train the neural network\n",
    "encdec_rnn_model = encdec_model(\n",
    "    tmp_x.shape,\n",
    "    preproc_french_sentences.shape[1],\n",
    "    len(english_tokenizer.word_index)+1,\n",
    "    len(french_tokenizer.word_index)+1)\n",
    "\n",
    "encdec_rnn_model.fit(tmp_x, preproc_french_sentences, batch_size=1024, epochs=10, validation_split=0.2)\n",
    "\n",
    "# Print prediction(s)\n",
    "print(logits_to_text(encdec_rnn_model.predict(tmp_x[:1])[0], french_tokenizer))\n",
    "\n"
   ]
  },
  {
   "cell_type": "markdown",
   "metadata": {},
   "source": [
    "### Model 5: Custom (IMPLEMENTATION)\n",
    "Use everything you learned from the previous models to create a model that incorporates embedding and a bidirectional rnn into one model."
   ]
  },
  {
   "cell_type": "code",
   "execution_count": 20,
   "metadata": {},
   "outputs": [
    {
     "name": "stdout",
     "output_type": "stream",
     "text": [
      "Train on 110288 samples, validate on 27573 samples\n",
      "Epoch 1/10\n",
      "110288/110288 [==============================] - 12s - loss: 3.9124 - acc: 0.4006 - val_loss: 3.0824 - val_acc: 0.4093\n",
      "Epoch 2/10\n",
      "110288/110288 [==============================] - 10s - loss: 2.9414 - acc: 0.4082 - val_loss: 2.8300 - val_acc: 0.4093\n",
      "Epoch 3/10\n",
      "110288/110288 [==============================] - 10s - loss: 2.7781 - acc: 0.4375 - val_loss: 2.7315 - val_acc: 0.4503\n",
      "Epoch 4/10\n",
      "110288/110288 [==============================] - 10s - loss: 2.7060 - acc: 0.4500 - val_loss: 2.6801 - val_acc: 0.4514\n",
      "Epoch 5/10\n",
      "110288/110288 [==============================] - 10s - loss: 2.6613 - acc: 0.4485 - val_loss: 2.6405 - val_acc: 0.4494\n",
      "Epoch 6/10\n",
      "110288/110288 [==============================] - 10s - loss: 2.6273 - acc: 0.4483 - val_loss: 2.6103 - val_acc: 0.4494\n",
      "Epoch 7/10\n",
      "110288/110288 [==============================] - 10s - loss: 2.5996 - acc: 0.4483 - val_loss: 2.5847 - val_acc: 0.4494\n",
      "Epoch 8/10\n",
      "110288/110288 [==============================] - 10s - loss: 2.5719 - acc: 0.4483 - val_loss: 2.5537 - val_acc: 0.4494\n",
      "Epoch 9/10\n",
      "110288/110288 [==============================] - 10s - loss: 2.5411 - acc: 0.4474 - val_loss: 2.5254 - val_acc: 0.4472\n",
      "Epoch 10/10\n",
      "110288/110288 [==============================] - 10s - loss: 2.5150 - acc: 0.4465 - val_loss: 2.5014 - val_acc: 0.4472\n",
      "la est est est est est est est <PAD> <PAD> <PAD> <PAD> <PAD> <PAD> <PAD> <PAD> <PAD> <PAD> <PAD> <PAD> <PAD>\n",
      "Final Model Loaded\n"
     ]
    }
   ],
   "source": [
    "def model_final(input_shape, output_sequence_length, english_vocab_size, french_vocab_size):\n",
    "    \"\"\"\n",
    "    Build and train a model that incorporates embedding, encoder-decoder, and bidirectional RNN on x and y\n",
    "    :param input_shape: Tuple of input shape\n",
    "    :param output_sequence_length: Length of output sequence\n",
    "    :param english_vocab_size: Number of unique English words in the dataset\n",
    "    :param french_vocab_size: Number of unique French words in the dataset\n",
    "    :return: Keras model built, but not trained\n",
    "    \"\"\"\n",
    "    _input = Input(shape=input_shape[1:])\n",
    "#     print('_input:', _input.shape)\n",
    "    _embedding = Embedding(input_dim=english_vocab_size, input_length=input_shape[1], output_dim=512)(_input)\n",
    "    _encoded = GRU(32)(_embedding)\n",
    "    \n",
    "    _decoded = RepeatVector(output_sequence_length)(_encoded)\n",
    "\n",
    "    _decoded = GRU(32, return_sequences=True)(_decoded)\n",
    "    \n",
    "    _output = Dense(french_vocab_size, activation='softmax')(_decoded)\n",
    "\n",
    "\n",
    "    model = Model(inputs=_input, outputs=_output)\n",
    "    model.compile(loss=sparse_categorical_crossentropy,\n",
    "                  optimizer=Adam(learning_rate),\n",
    "                  metrics=['accuracy'])\n",
    "    return model\n",
    "\n",
    "tests.test_model_final(model_final)\n",
    "\n",
    "# TODO: Reshape the input\n",
    "tmp_x = pad(preproc_english_sentences, preproc_french_sentences.shape[1])\n",
    "tmp_x = tmp_x.reshape((-1, preproc_french_sentences.shape[-2]))\n",
    "\n",
    "# TODO: Train the neural network\n",
    "final_rnn_model = model_final(\n",
    "    tmp_x.shape,\n",
    "    preproc_french_sentences.shape[1],\n",
    "    len(english_tokenizer.word_index)+1,\n",
    "    len(french_tokenizer.word_index)+1)\n",
    "final_rnn_model.fit(tmp_x, preproc_french_sentences, batch_size=1024, epochs=10, validation_split=0.2)\n",
    "\n",
    "# TODO: Print prediction(s)\n",
    "print(logits_to_text(final_rnn_model.predict(tmp_x[:1])[0], french_tokenizer))\n",
    "\n",
    "\n",
    "print('Final Model Loaded')"
   ]
  },
  {
   "cell_type": "markdown",
   "metadata": {},
   "source": [
    "## Prediction (IMPLEMENTATION)"
   ]
  },
  {
   "cell_type": "code",
   "execution_count": null,
   "metadata": {
    "collapsed": true
   },
   "outputs": [],
   "source": [
    "import numpy as np\n",
    "from keras.preprocessing.sequence import pad_sequences\n",
    "\n",
    "\n",
    "def final_predictions(x, y, x_tk, y_tk):\n",
    "    \"\"\"\n",
    "    Gets predictions using the final model\n",
    "    :param x: Preprocessed English data\n",
    "    :param y: Preprocessed French data\n",
    "    :param x_tk: English tokenizer\n",
    "    :param y_tk: French tokenizer\n",
    "    \"\"\"\n",
    "    # TODO: Train neural network using model_final\n",
    "    model = None\n",
    "\n",
    "    \n",
    "    ## DON'T EDIT ANYTHING BELOW THIS LINE\n",
    "    y_id_to_word = {value: key for key, value in y_tk.word_index.items()}\n",
    "    y_id_to_word[0] = '<PAD>'\n",
    "\n",
    "    sentence = 'he saw a old yellow truck'\n",
    "    sentence = [x_tk.word_index[word] for word in sentence.split()]\n",
    "    sentence = pad_sequences([sentence], maxlen=x.shape[-1], padding='post')\n",
    "    sentences = np.array([sentence[0], x[0]])\n",
    "    predictions = model.predict(sentences, len(sentences))\n",
    "\n",
    "    print('Sample 1:')\n",
    "    print(' '.join([y_id_to_word[np.argmax(x)] for x in predictions[0]]))\n",
    "    print('Il a vu un vieux camion jaune')\n",
    "    print('Sample 2:')\n",
    "    print(' '.join([y_id_to_word[np.argmax(x)] for x in predictions[1]]))\n",
    "    print(' '.join([y_id_to_word[np.argmax(x)] for x in y[0]]))\n",
    "\n",
    "\n",
    "final_predictions(preproc_english_sentences, preproc_french_sentences, english_tokenizer, french_tokenizer)"
   ]
  },
  {
   "cell_type": "markdown",
   "metadata": {},
   "source": [
    "## Submission\n",
    "When you are ready to submit your project, do the following steps:\n",
    "1. Ensure you pass all points on the [rubric](https://review.udacity.com/#!/rubrics/1004/view).\n",
    "2. Submit the following in a zip file.\n",
    "  - `helper.py`\n",
    "  - `machine_translation.ipynb`\n",
    "  - `machine_translation.html`\n",
    "    - You can export the notebook by navigating to **File -> Download as -> HTML (.html)**."
   ]
  }
 ],
 "metadata": {
  "kernelspec": {
   "display_name": "Python 3",
   "language": "python",
   "name": "python3"
  },
  "language_info": {
   "codemirror_mode": {
    "name": "ipython",
    "version": 3
   },
   "file_extension": ".py",
   "mimetype": "text/x-python",
   "name": "python",
   "nbconvert_exporter": "python",
   "pygments_lexer": "ipython3",
   "version": "3.6.1"
  }
 },
 "nbformat": 4,
 "nbformat_minor": 1
}
